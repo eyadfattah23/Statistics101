{
 "cells": [
  {
   "cell_type": "code",
   "execution_count": 1,
   "metadata": {},
   "outputs": [
    {
     "name": "stdout",
     "output_type": "stream",
     "text": [
      "54.4\n"
     ]
    }
   ],
   "source": [
    "#Complete the mean function to make it return the mean of a list of numbers\n",
    "\n",
    "data1=[49., 66, 24, 98, 37, 64, 98, 27, 56, 93, 68, 78, 22, 25, 11]\n",
    "\n",
    "def mean(data):\n",
    "    #Insert your code here\n",
    "    sum =0\n",
    "    for i in data:\n",
    "        sum = sum+i\n",
    "        \n",
    "    return sum/len(data)\n",
    "    \n",
    "print(mean(data1))    \n",
    "        "
   ]
  },
  {
   "cell_type": "code",
   "execution_count": 2,
   "metadata": {},
   "outputs": [
    {
     "name": "stdout",
     "output_type": "stream",
     "text": [
      "54.4\n"
     ]
    }
   ],
   "source": [
    "#Complete the mean function to make it return the mean of a list of numbers\n",
    "\n",
    "data1=[49., 66, 24, 98, 37, 64, 98, 27, 56, 93, 68, 78, 22, 25, 11]\n",
    "\n",
    "def mean(data):\n",
    "    #Insert your code here\n",
    "        \n",
    "    return sum(data)/len(data)\n",
    "    \n",
    "print(mean(data1))    \n",
    "        \n"
   ]
  },
  {
   "cell_type": "code",
   "execution_count": 4,
   "metadata": {},
   "outputs": [
    {
     "data": {
      "text/plain": [
       "2"
      ]
     },
     "execution_count": 4,
     "metadata": {},
     "output_type": "execute_result"
    }
   ],
   "source": [
    "#Complete the median function to make it return the median of a list of numbers\n",
    "import statistics\n",
    "data1=[1,2,5,10,-20]\n",
    "def median(data):\n",
    "    #Insert your code here\n",
    "    return statistics.median(data)    \n",
    "\n",
    "median(data1)\n"
   ]
  },
  {
   "cell_type": "code",
   "execution_count": 6,
   "metadata": {},
   "outputs": [
    {
     "name": "stdout",
     "output_type": "stream",
     "text": [
      "2.0\n"
     ]
    },
    {
     "data": {
      "text/plain": [
       "5"
      ]
     },
     "execution_count": 6,
     "metadata": {},
     "output_type": "execute_result"
    }
   ],
   "source": [
    "#Complete the median function to make it return the median of a list of numbers\n",
    "\n",
    "data1=[1,2,5,10,-20]\n",
    "def median(data):\n",
    "    #Insert your code here\n",
    "    tmp = sorted(data)\n",
    "    mid = len(tmp) // 2\n",
    "    res = (tmp[mid] + tmp[-mid-1]) / 2\n",
    "    return res \n",
    "    \n",
    "print(median(data1))    \n",
    "\n",
    "data1[-3]\n"
   ]
  },
  {
   "cell_type": "code",
   "execution_count": 1,
   "metadata": {},
   "outputs": [
    {
     "name": "stdout",
     "output_type": "stream",
     "text": [
      "[5]\n"
     ]
    }
   ],
   "source": [
    "#Complete the mode function to make it return the mode of a list of numbers\n",
    "data1=[1,2,5,10,-20,5,5]\n",
    "\n",
    "def mode(data):\n",
    "    #Insert your code here\n",
    "    d = {}\n",
    "    for a in data:\n",
    "        if not a in d:\n",
    "            d[a]=1\n",
    "        else:\n",
    "            d[a]+=1\n",
    "    return [k for k,v in d.items() if v==max(d.values())]\n",
    "print(mode(data1))\n"
   ]
  },
  {
   "cell_type": "code",
   "execution_count": 2,
   "metadata": {},
   "outputs": [],
   "source": [
    "data1=[1,2,5,10,-20,5,5]\n",
    "def mode(data):\n",
    "    for i in range(len(data)):\n",
    "        if data[i] in data:\n",
    "            data.count(data[i])\n",
    "            \n",
    "            \n",
    "            "
   ]
  },
  {
   "cell_type": "code",
   "execution_count": 6,
   "metadata": {},
   "outputs": [
    {
     "name": "stdout",
     "output_type": "stream",
     "text": [
      "62.572884\n"
     ]
    }
   ],
   "source": [
    "#Complete the variance function to make it return the variance of a list of numbers\n",
    "data3=[13.04, 1.32, 22.65, 17.44, 29.54, 23.22, 17.65, 10.12, 26.73, 16.43]\n",
    "def mean(data):\n",
    "    return sum(data)/len(data)\n",
    "def variance(data):\n",
    "    mu=mean(data)\n",
    "    \n",
    "    for i in range(len(data)):\n",
    "        \n",
    "        data[i]=data[i]-mu\n",
    "        data[i]=data[i]**2\n",
    "   \n",
    "    \n",
    "    return mean(data)\n",
    "    #Insert your code here\n",
    "print(variance(data3))"
   ]
  },
  {
   "cell_type": "code",
   "execution_count": 5,
   "metadata": {},
   "outputs": [
    {
     "name": "stdout",
     "output_type": "stream",
     "text": [
      "62.572884\n"
     ]
    }
   ],
   "source": [
    "#Complete the variance function to make it return the variance of a list of numbers\n",
    "data3=[13.04, 1.32, 22.65, 17.44, 29.54, 23.22, 17.65, 10.12, 26.73, 16.43]\n",
    "def mean(data):\n",
    "    return sum(data)/len(data)\n",
    "def variance(data):\n",
    "    mu=mean(data)\n",
    "    n_data=[]\n",
    "    \n",
    "    for i in range(len(data)):\n",
    "        n_data.append((data[i]-mu)**2)\n",
    "    \n",
    "    \n",
    "    return mean(n_data)\n",
    "    #Insert your code here\n",
    "print(variance(data3))\n"
   ]
  },
  {
   "cell_type": "code",
   "execution_count": null,
   "metadata": {},
   "outputs": [],
   "source": [
    "#Complete the stddev function to make it return the standard deviation \n",
    "#of a list of numbers\n",
    "from math import sqrt\n",
    "\n",
    "data3=[13.04, 1.32, 22.65, 17.44, 29.54, 23.22, 17.65, 10.12, 26.73, 16.43]\n",
    "\n",
    "\n",
    "def mean(data):\n",
    "    return sum(data)/len(data)\n",
    "def variance(data):\n",
    "    mu=mean(data)\n",
    "    return mean([(x-mu)**2 for x in data])\n",
    "def stddev(data):\n",
    "    return sqrt(variance(data))\n",
    "    \n",
    "    \n",
    "    #Insert your code here\n"
   ]
  },
  {
   "cell_type": "code",
   "execution_count": 1,
   "metadata": {},
   "outputs": [
    {
     "name": "stdout",
     "output_type": "stream",
     "text": [
      "9.0\n"
     ]
    }
   ],
   "source": [
    "#In class you wrote a function mean that computed the mean of a set of numbers\n",
    "#Consider a case where you have already computed the mean of a set of data and\n",
    "#get a single additional number. Given the number of observations in the\n",
    "#existing data, the old mean and the new value, complete the function to return\n",
    "#the correct mean\n",
    "\n",
    "from __future__ import division\n",
    "\n",
    "def mean(oldmean,n,x):\n",
    "    #Insert your code here\n",
    "    new_count = n+1\n",
    "    sum=oldmean*n\n",
    "    new_mean = (sum+x)/new_count\n",
    "    return new_mean\n",
    "currentmean=10\n",
    "currentcount=5\n",
    "new=4\n",
    "\n",
    "print( mean(currentmean,currentcount,new)) #Should print 9"
   ]
  },
  {
   "cell_type": "code",
   "execution_count": 1,
   "metadata": {},
   "outputs": [
    {
     "name": "stdout",
     "output_type": "stream",
     "text": [
      "Correct\n",
      "Correct\n",
      "Correct\n",
      "Correct\n"
     ]
    }
   ],
   "source": [
    "#Compute the likelihood of observing a sequence of die rolls\n",
    "#Likelihood is the probability of getting the specific set of rolls \n",
    "#in the given order\n",
    "#Given a multi-sided die whose labels and probabilities are \n",
    "#given by a Python dictionary called dist and a sequence (list, tuple, string) \n",
    "#of rolls called data, complete the function likelihood\n",
    "#Note that an element of a dictionary can be retrieved by dist[key] where\n",
    "#key is one of the dictionary's keys (e.g. 'A', 'Good'). \n",
    "\n",
    "def likelihood(dist,data):\n",
    "    #Insert your answer here\n",
    "    lh=1\n",
    "    for i in range(len(data)):\n",
    "        lh*=dist[data[i]]\n",
    "    return lh    \n",
    "\n",
    "\n",
    "tests= [(({'A':0.2,'B':0.2,'C':0.2,'D':0.2,'E':0.2},'ABCEDDECAB'), 1.024e-07),(({'Good':0.6,'Bad':0.2,'Indifferent':0.2},['Good','Bad','Indifferent','Good','Good','Bad']), 0.001728),(({'Z':0.6,'X':0.333,'Y':0.067},'ZXYYZXYXYZY'), 1.07686302456e-08),(({'Z':0.6,'X':0.233,'Y':0.067,'W':0.1},'WXYZYZZZZW'), 8.133206112e-07)]\n",
    "\n",
    "for t,l in tests:\n",
    "    if abs(likelihood(*t)/l-1)<0.01:\n",
    "        print ('Correct')\n",
    "    else:\n",
    "        print ('Incorrect')"
   ]
  }
 ],
 "metadata": {
  "kernelspec": {
   "display_name": "Python 3.10.4 64-bit",
   "language": "python",
   "name": "python3"
  },
  "language_info": {
   "codemirror_mode": {
    "name": "ipython",
    "version": 3
   },
   "file_extension": ".py",
   "mimetype": "text/x-python",
   "name": "python",
   "nbconvert_exporter": "python",
   "pygments_lexer": "ipython3",
   "version": "3.10.4 (tags/v3.10.4:9d38120, Mar 23 2022, 23:13:41) [MSC v.1929 64 bit (AMD64)]"
  },
  "orig_nbformat": 4,
  "vscode": {
   "interpreter": {
    "hash": "551ae5f633a0703ebed0200388e4816cacfa09364f5d947665a859afca4b84e8"
   }
  }
 },
 "nbformat": 4,
 "nbformat_minor": 2
}
