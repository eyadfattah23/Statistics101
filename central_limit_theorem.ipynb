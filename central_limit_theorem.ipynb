{
 "cells": [
  {
   "cell_type": "code",
   "execution_count": 1,
   "metadata": {},
   "outputs": [
    {
     "name": "stdout",
     "output_type": "stream",
     "text": [
      "0.501\n",
      "0.499998999999\n"
     ]
    }
   ],
   "source": [
    "#Write a function flip that simulates flipping n fair coins. \n",
    "#It should return a list representing the result of each flip as a 1 or 0\n",
    "#To generate randomness, you can use the function random.random() to get\n",
    "#a number between 0 or 1. Checking if it's less than 0.5 can help your \n",
    "#transform it to be 0 or 1\n",
    "\n",
    "import random\n",
    "from math import sqrt\n",
    "\n",
    "def mean(data):\n",
    "    return float(sum(data))/len(data)\n",
    "\n",
    "def variance(data):\n",
    "    mu=mean(data)\n",
    "    return sum([(x-mu)**2 for x in data])/len(data)\n",
    "\n",
    "def stddev(data):\n",
    "    return sqrt(variance(data))\n",
    "    \n",
    "\n",
    "def flip(N):\n",
    "    #Insert your code here\n",
    "    lst=[]\n",
    "    for i in range(0,N):\n",
    "        x=random.random()\n",
    "        if x<0.5:\n",
    "            lst.append(0)\n",
    "        elif x>0.5:\n",
    "            lst.append(1)\n",
    "    return lst\n",
    "N=1000\n",
    "f=flip(N)\n",
    "\n",
    "print (mean(f))\n",
    "print (stddev(f))\n"
   ]
  },
  {
   "cell_type": "code",
   "execution_count": 3,
   "metadata": {},
   "outputs": [
    {
     "ename": "AttributeError",
     "evalue": "'Rectangle' object has no property 'nbins'",
     "output_type": "error",
     "traceback": [
      "\u001b[1;31m---------------------------------------------------------------------------\u001b[0m",
      "\u001b[1;31mAttributeError\u001b[0m                            Traceback (most recent call last)",
      "Cell \u001b[1;32mIn [3], line 32\u001b[0m\n\u001b[0;32m     30\u001b[0m N\u001b[39m=\u001b[39m\u001b[39m1000\u001b[39m\n\u001b[0;32m     31\u001b[0m outcomes\u001b[39m=\u001b[39msample(N)\n\u001b[1;32m---> 32\u001b[0m hist_plot(outcomes,nbins\u001b[39m=\u001b[39;49m\u001b[39m30\u001b[39;49m)\n\u001b[0;32m     34\u001b[0m \u001b[39mprint\u001b[39m (mean(outcomes))\n\u001b[0;32m     35\u001b[0m \u001b[39mprint\u001b[39m (stddev(outcomes))\n",
      "File \u001b[1;32mc:\\Users\\GAMING STORE\\Downloads\\python\\lib\\site-packages\\plotting\\points.py:541\u001b[0m, in \u001b[0;36mhist_plot\u001b[1;34m(colors, *arrays, **kwargs)\u001b[0m\n\u001b[0;32m    538\u001b[0m     \u001b[39mfor\u001b[39;00m arr \u001b[39min\u001b[39;00m arrays:\n\u001b[0;32m    539\u001b[0m         axis\u001b[39m.\u001b[39mhist(arr, color\u001b[39m=\u001b[39m\u001b[39mnext\u001b[39m(colors), \u001b[39m*\u001b[39m\u001b[39m*\u001b[39mkwargs)\n\u001b[1;32m--> 541\u001b[0m plotting_base(plot_func, \u001b[39m*\u001b[39marrays, colors\u001b[39m=\u001b[39mcolors, legend\u001b[39m=\u001b[39m\u001b[39mNone\u001b[39;00m, \u001b[39m*\u001b[39m\u001b[39m*\u001b[39mkwargs)\n",
      "File \u001b[1;32mc:\\Users\\GAMING STORE\\Downloads\\python\\lib\\site-packages\\plotting\\base.py:89\u001b[0m, in \u001b[0;36mplotting_base\u001b[1;34m(plot_func, despine, axes, figsize, dpi, fontsize, xlabel, ylabel, xlim, ylim, xticks, yticks, ticksize, xtick_rotation, ytick_rotation, xtick_labels, ytick_labels, xscale, yscale, borderwidth, title, suptitle, legend, legend_loc, filename, showplot, *args, **kwargs)\u001b[0m\n\u001b[0;32m     86\u001b[0m \u001b[39mif\u001b[39;00m legend \u001b[39mis\u001b[39;00m \u001b[39mFalse\u001b[39;00m:\n\u001b[0;32m     87\u001b[0m     kwargs[\u001b[39m'\u001b[39m\u001b[39mlegend\u001b[39m\u001b[39m'\u001b[39m] \u001b[39m=\u001b[39m legend\n\u001b[1;32m---> 89\u001b[0m plot_func(axis, \u001b[39m*\u001b[39margs, \u001b[39m*\u001b[39m\u001b[39m*\u001b[39mkwargs)\n\u001b[0;32m     91\u001b[0m \u001b[39mif\u001b[39;00m despine:\n\u001b[0;32m     92\u001b[0m     sns\u001b[39m.\u001b[39mdespine(offset\u001b[39m=\u001b[39m\u001b[39m10\u001b[39m, trim\u001b[39m=\u001b[39m\u001b[39mFalse\u001b[39;00m)\n",
      "File \u001b[1;32mc:\\Users\\GAMING STORE\\Downloads\\python\\lib\\site-packages\\plotting\\points.py:539\u001b[0m, in \u001b[0;36mhist_plot.<locals>.plot_func\u001b[1;34m(axis, colors, *arrays, **kwargs)\u001b[0m\n\u001b[0;32m    536\u001b[0m colors \u001b[39m=\u001b[39m get_colors(color_palette\u001b[39m=\u001b[39mcolors)\n\u001b[0;32m    538\u001b[0m \u001b[39mfor\u001b[39;00m arr \u001b[39min\u001b[39;00m arrays:\n\u001b[1;32m--> 539\u001b[0m     axis\u001b[39m.\u001b[39mhist(arr, color\u001b[39m=\u001b[39m\u001b[39mnext\u001b[39m(colors), \u001b[39m*\u001b[39m\u001b[39m*\u001b[39mkwargs)\n",
      "File \u001b[1;32mc:\\Users\\GAMING STORE\\Downloads\\python\\lib\\site-packages\\matplotlib\\__init__.py:1414\u001b[0m, in \u001b[0;36m_preprocess_data.<locals>.inner\u001b[1;34m(ax, data, *args, **kwargs)\u001b[0m\n\u001b[0;32m   1411\u001b[0m \u001b[39m@functools\u001b[39m\u001b[39m.\u001b[39mwraps(func)\n\u001b[0;32m   1412\u001b[0m \u001b[39mdef\u001b[39;00m \u001b[39minner\u001b[39m(ax, \u001b[39m*\u001b[39margs, data\u001b[39m=\u001b[39m\u001b[39mNone\u001b[39;00m, \u001b[39m*\u001b[39m\u001b[39m*\u001b[39mkwargs):\n\u001b[0;32m   1413\u001b[0m     \u001b[39mif\u001b[39;00m data \u001b[39mis\u001b[39;00m \u001b[39mNone\u001b[39;00m:\n\u001b[1;32m-> 1414\u001b[0m         \u001b[39mreturn\u001b[39;00m func(ax, \u001b[39m*\u001b[39m\u001b[39mmap\u001b[39m(sanitize_sequence, args), \u001b[39m*\u001b[39m\u001b[39m*\u001b[39mkwargs)\n\u001b[0;32m   1416\u001b[0m     bound \u001b[39m=\u001b[39m new_sig\u001b[39m.\u001b[39mbind(ax, \u001b[39m*\u001b[39margs, \u001b[39m*\u001b[39m\u001b[39m*\u001b[39mkwargs)\n\u001b[0;32m   1417\u001b[0m     auto_label \u001b[39m=\u001b[39m (bound\u001b[39m.\u001b[39marguments\u001b[39m.\u001b[39mget(label_namer)\n\u001b[0;32m   1418\u001b[0m                   \u001b[39mor\u001b[39;00m bound\u001b[39m.\u001b[39mkwargs\u001b[39m.\u001b[39mget(label_namer))\n",
      "File \u001b[1;32mc:\\Users\\GAMING STORE\\Downloads\\python\\lib\\site-packages\\matplotlib\\axes\\_axes.py:6793\u001b[0m, in \u001b[0;36mAxes.hist\u001b[1;34m(self, x, bins, range, density, weights, cumulative, bottom, histtype, align, orientation, rwidth, log, color, label, stacked, **kwargs)\u001b[0m\n\u001b[0;32m   6791\u001b[0m \u001b[39mif\u001b[39;00m patch:\n\u001b[0;32m   6792\u001b[0m     p \u001b[39m=\u001b[39m patch[\u001b[39m0\u001b[39m]\n\u001b[1;32m-> 6793\u001b[0m     p\u001b[39m.\u001b[39;49mupdate(kwargs)\n\u001b[0;32m   6794\u001b[0m     \u001b[39mif\u001b[39;00m lbl \u001b[39mis\u001b[39;00m \u001b[39mnot\u001b[39;00m \u001b[39mNone\u001b[39;00m:\n\u001b[0;32m   6795\u001b[0m         p\u001b[39m.\u001b[39mset_label(lbl)\n",
      "File \u001b[1;32mc:\\Users\\GAMING STORE\\Downloads\\python\\lib\\site-packages\\matplotlib\\artist.py:1067\u001b[0m, in \u001b[0;36mArtist.update\u001b[1;34m(self, props)\u001b[0m\n\u001b[0;32m   1065\u001b[0m             func \u001b[39m=\u001b[39m \u001b[39mgetattr\u001b[39m(\u001b[39mself\u001b[39m, \u001b[39mf\u001b[39m\u001b[39m\"\u001b[39m\u001b[39mset_\u001b[39m\u001b[39m{\u001b[39;00mk\u001b[39m}\u001b[39;00m\u001b[39m\"\u001b[39m, \u001b[39mNone\u001b[39;00m)\n\u001b[0;32m   1066\u001b[0m             \u001b[39mif\u001b[39;00m \u001b[39mnot\u001b[39;00m callable(func):\n\u001b[1;32m-> 1067\u001b[0m                 \u001b[39mraise\u001b[39;00m \u001b[39mAttributeError\u001b[39;00m(\u001b[39mf\u001b[39m\u001b[39m\"\u001b[39m\u001b[39m{\u001b[39;00m\u001b[39mtype\u001b[39m(\u001b[39mself\u001b[39m)\u001b[39m.\u001b[39m\u001b[39m__name__\u001b[39m\u001b[39m!r}\u001b[39;00m\u001b[39m object \u001b[39m\u001b[39m\"\u001b[39m\n\u001b[0;32m   1068\u001b[0m                                      \u001b[39mf\u001b[39m\u001b[39m\"\u001b[39m\u001b[39mhas no property \u001b[39m\u001b[39m{\u001b[39;00mk\u001b[39m!r}\u001b[39;00m\u001b[39m\"\u001b[39m)\n\u001b[0;32m   1069\u001b[0m             ret\u001b[39m.\u001b[39mappend(func(v))\n\u001b[0;32m   1070\u001b[0m \u001b[39mif\u001b[39;00m ret:\n",
      "\u001b[1;31mAttributeError\u001b[0m: 'Rectangle' object has no property 'nbins'"
     ]
    },
    {
     "data": {
      "image/png": "[encoded data removed]",
      "text/plain": [
       "<Figure size 600x400 with 1 Axes>"
      ]
     },
     "metadata": {},
     "output_type": "display_data"
    }
   ],
   "source": [
    "#Write a function sample that simulates N sets of coin flips and\n",
    "#returns a list of the proportion of heads in each set of N flips\n",
    "#It may help to use the flip and mean functions that you wrote before\n",
    "\n",
    "import random\n",
    "from math import sqrt\n",
    "from plotting import *\n",
    "import matplotlib.pyplot as plt\n",
    "\n",
    "def mean(data):\n",
    "    return float(sum(data))/len(data)\n",
    "\n",
    "def variance(data):\n",
    "    mu=mean(data)\n",
    "    return sum([(x-mu)**2 for x in data])/len(data)\n",
    "\n",
    "def stddev(data):\n",
    "    return sqrt(variance(data))\n",
    "    \n",
    "\n",
    "def flip(N):\n",
    "    return [random.random()>0.5 for x in range(N)]\n",
    "    \n",
    "def sample(N):\n",
    "    #Insert your code here\n",
    "    lst=[]\n",
    "    for i in range(0,N):\n",
    "        lst.append(mean(flip(N)))\n",
    "    return lst\n",
    "\n",
    "N=1000\n",
    "outcomes=sample(N)\n",
    "plt.hist(outcomes,bins=30)\n",
    "\n",
    "print (mean(outcomes))\n",
    "print (stddev(outcomes))"
   ]
  }
 ],
 "metadata": {
  "kernelspec": {
   "display_name": "Python 3",
   "language": "python",
   "name": "python3"
  },
  "language_info": {
   "codemirror_mode": {
    "name": "ipython",
    "version": 3
   },
   "file_extension": ".py",
   "mimetype": "text/x-python",
   "name": "python",
   "nbconvert_exporter": "python",
   "pygments_lexer": "ipython3",
   "version": "3.10.4"
  },
  "orig_nbformat": 4,
  "vscode": {
   "interpreter": {
    "hash": "551ae5f633a0703ebed0200388e4816cacfa09364f5d947665a859afca4b84e8"
   }
  }
 },
 "nbformat": 4,
 "nbformat_minor": 2
}
