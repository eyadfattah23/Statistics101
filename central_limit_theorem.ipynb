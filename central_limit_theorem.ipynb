{
 "cells": [
  {
   "cell_type": "code",
   "execution_count": 1,
   "metadata": {},
   "outputs": [
    {
     "name": "stdout",
     "output_type": "stream",
     "text": [
      "0.501\n",
      "0.499998999999\n"
     ]
    }
   ],
   "source": [
    "#Write a function flip that simulates flipping n fair coins. \n",
    "#It should return a list representing the result of each flip as a 1 or 0\n",
    "#To generate randomness, you can use the function random.random() to get\n",
    "#a number between 0 or 1. Checking if it's less than 0.5 can help your \n",
    "#transform it to be 0 or 1\n",
    "\n",
    "import random\n",
    "from math import sqrt\n",
    "\n",
    "def mean(data):\n",
    "    return float(sum(data))/len(data)\n",
    "\n",
    "def variance(data):\n",
    "    mu=mean(data)\n",
    "    return sum([(x-mu)**2 for x in data])/len(data)\n",
    "\n",
    "def stddev(data):\n",
    "    return sqrt(variance(data))\n",
    "    \n",
    "\n",
    "def flip(N):\n",
    "    #Insert your code here\n",
    "    lst=[]\n",
    "    for i in range(0,N):\n",
    "        x=random.random()\n",
    "        if x<0.5:\n",
    "            lst.append(0)\n",
    "        elif x>0.5:\n",
    "            lst.append(1)\n",
    "    return lst\n",
    "N=1000\n",
    "f=flip(N)\n",
    "\n",
    "print (mean(f))\n",
    "print (stddev(f))\n"
   ]
  }
 ],
 "metadata": {
  "kernelspec": {
   "display_name": "Python 3",
   "language": "python",
   "name": "python3"
  },
  "language_info": {
   "codemirror_mode": {
    "name": "ipython",
    "version": 3
   },
   "file_extension": ".py",
   "mimetype": "text/x-python",
   "name": "python",
   "nbconvert_exporter": "python",
   "pygments_lexer": "ipython3",
   "version": "3.10.4"
  },
  "orig_nbformat": 4,
  "vscode": {
   "interpreter": {
    "hash": "551ae5f633a0703ebed0200388e4816cacfa09364f5d947665a859afca4b84e8"
   }
  }
 },
 "nbformat": 4,
 "nbformat_minor": 2
}
