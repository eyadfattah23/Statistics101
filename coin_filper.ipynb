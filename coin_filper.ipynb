import random
from math import sqrt
import matplotlib.pyplot as plt

# Calculate the mean of a list
def mean(data):
    return float(sum(data)) / len(data)

# Calculate the variance of a list
def variance(data):
    mu = mean(data)
    return sum([(x - mu) ** 2 for x in data]) / len(data)

# Calculate the standard deviation of a list
def stddev(data):
    return sqrt(variance(data))

# Simulate N coin flips and return results as True (heads) or False (tails)
def flip(N):
    return [random.random() > 0.5 for _ in range(N)]

# Simulate multiple sets of N coin flips and calculate the proportion of heads
def sample(N):
    lst = []
    for _ in range(N):
        lst.append(mean(flip(N)))
    return lst

# Calculate the percentage of heads and tails
def calculate_percentages(flips):
    heads = sum(flips)
    tails = len(flips) - heads
    total = len(flips)
    return (heads / total) * 100, (tails / total) * 100

# Number of flips and simulations
N = 1000

# Simulate the flips
flips = flip(N)  # Single set of coin flips
outcomes = sample(N)  # Multiple simulations of N flips

# Calculate heads and tails percentages
heads_percent, tails_percent = calculate_percentages(flips)

# Plot histogram of outcomes
plt.figure(figsize=(12, 5))

# Histogram for the proportion of heads
plt.subplot(1, 2, 1)
plt.hist(outcomes, bins=30, color='blue', alpha=0.7)
plt.title('Distribution of Proportion of Heads')
plt.xlabel('Proportion of Heads')
plt.ylabel('Frequency')

# Bar chart for heads vs. tails
plt.subplot(1, 2, 2)
plt.bar(['Heads', 'Tails'], [heads_percent, tails_percent], color=['green', 'red'], alpha=0.7)
plt.title('Percentage of Heads and Tails')
plt.ylabel('Percentage')

plt.tight_layout()
plt.show()

# Print statistics
print(f"Mean proportion of heads: {mean(outcomes):.4f}")
print(f"Standard deviation: {stddev(outcomes):.4f}")
print(f"Heads: {heads_percent:.2f}%")
print(f"Tails: {tails_percent:.2f}%")
